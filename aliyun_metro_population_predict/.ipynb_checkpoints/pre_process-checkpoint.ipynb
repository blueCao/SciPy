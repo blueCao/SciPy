{
 "cells": [
  {
   "cell_type": "code",
   "execution_count": 135,
   "metadata": {},
   "outputs": [
    {
     "data": {
      "text/html": [
       "<div>\n",
       "<style scoped>\n",
       "    .dataframe tbody tr th:only-of-type {\n",
       "        vertical-align: middle;\n",
       "    }\n",
       "\n",
       "    .dataframe tbody tr th {\n",
       "        vertical-align: top;\n",
       "    }\n",
       "\n",
       "    .dataframe thead th {\n",
       "        text-align: right;\n",
       "    }\n",
       "</style>\n",
       "<table border=\"1\" class=\"dataframe\">\n",
       "  <thead>\n",
       "    <tr style=\"text-align: right;\">\n",
       "      <th></th>\n",
       "      <th>time</th>\n",
       "      <th>lineID</th>\n",
       "      <th>stationID</th>\n",
       "      <th>deviceID</th>\n",
       "      <th>status</th>\n",
       "      <th>userID</th>\n",
       "      <th>payType</th>\n",
       "    </tr>\n",
       "  </thead>\n",
       "  <tbody>\n",
       "    <tr>\n",
       "      <th>30355</th>\n",
       "      <td>2019-01-15 06:52:24</td>\n",
       "      <td>C</td>\n",
       "      <td>58</td>\n",
       "      <td>2740</td>\n",
       "      <td>1.0</td>\n",
       "      <td>C7387f5f87eb12b4036d2d915b69df984</td>\n",
       "      <td>2.0</td>\n",
       "    </tr>\n",
       "    <tr>\n",
       "      <th>30356</th>\n",
       "      <td>2019-01-15 06:52:24</td>\n",
       "      <td>B</td>\n",
       "      <td>19</td>\n",
       "      <td>1013</td>\n",
       "      <td>0.0</td>\n",
       "      <td>C57098297e31faa78b4c9ab840dc86a57</td>\n",
       "      <td>2.0</td>\n",
       "    </tr>\n",
       "    <tr>\n",
       "      <th>30357</th>\n",
       "      <td>2019-01-15 06:52:24</td>\n",
       "      <td>B</td>\n",
       "      <td>33</td>\n",
       "      <td>1592</td>\n",
       "      <td>1.0</td>\n",
       "      <td>Cdbe324235e2f7c041a2b230c0b185afc</td>\n",
       "      <td>2.0</td>\n",
       "    </tr>\n",
       "    <tr>\n",
       "      <th>30358</th>\n",
       "      <td>2019-01-15 06:52:24</td>\n",
       "      <td>B</td>\n",
       "      <td>1</td>\n",
       "      <td>45</td>\n",
       "      <td>1.0</td>\n",
       "      <td>Cb3f9ff82bd97ecef2e629dcef24cc845</td>\n",
       "      <td>2.0</td>\n",
       "    </tr>\n",
       "    <tr>\n",
       "      <th>30359</th>\n",
       "      <td>2019-01-15 06:52:25</td>\n",
       "      <td>C</td>\n",
       "      <td>61</td>\n",
       "      <td>2868</td>\n",
       "      <td>NaN</td>\n",
       "      <td>NaN</td>\n",
       "      <td>NaN</td>\n",
       "    </tr>\n",
       "  </tbody>\n",
       "</table>\n",
       "</div>"
      ],
      "text/plain": [
       "                      time lineID  stationID  deviceID  status  \\\n",
       "30355  2019-01-15 06:52:24      C         58      2740     1.0   \n",
       "30356  2019-01-15 06:52:24      B         19      1013     0.0   \n",
       "30357  2019-01-15 06:52:24      B         33      1592     1.0   \n",
       "30358  2019-01-15 06:52:24      B          1        45     1.0   \n",
       "30359  2019-01-15 06:52:25      C         61      2868     NaN   \n",
       "\n",
       "                                  userID  payType  \n",
       "30355  C7387f5f87eb12b4036d2d915b69df984      2.0  \n",
       "30356  C57098297e31faa78b4c9ab840dc86a57      2.0  \n",
       "30357  Cdbe324235e2f7c041a2b230c0b185afc      2.0  \n",
       "30358  Cb3f9ff82bd97ecef2e629dcef24cc845      2.0  \n",
       "30359                                NaN      NaN  "
      ]
     },
     "execution_count": 135,
     "metadata": {},
     "output_type": "execute_result"
    }
   ],
   "source": [
    "# 数据加载\n",
    "import pandas as pd\n",
    "data_src=pd.read_csv('./data/record_2019-01-15.csv')\n",
    "\n",
    "# 获取前几行数据\n",
    "data_src.tail()"
   ]
  },
  {
   "cell_type": "code",
   "execution_count": 136,
   "metadata": {
    "scrolled": true
   },
   "outputs": [
    {
     "data": {
      "text/html": [
       "<div>\n",
       "<style scoped>\n",
       "    .dataframe tbody tr th:only-of-type {\n",
       "        vertical-align: middle;\n",
       "    }\n",
       "\n",
       "    .dataframe tbody tr th {\n",
       "        vertical-align: top;\n",
       "    }\n",
       "\n",
       "    .dataframe thead th {\n",
       "        text-align: right;\n",
       "    }\n",
       "</style>\n",
       "<table border=\"1\" class=\"dataframe\">\n",
       "  <thead>\n",
       "    <tr style=\"text-align: right;\">\n",
       "      <th></th>\n",
       "      <th>lineID</th>\n",
       "      <th>stationID</th>\n",
       "      <th>deviceID</th>\n",
       "      <th>status</th>\n",
       "      <th>userID</th>\n",
       "      <th>payType</th>\n",
       "    </tr>\n",
       "    <tr>\n",
       "      <th>time</th>\n",
       "      <th></th>\n",
       "      <th></th>\n",
       "      <th></th>\n",
       "      <th></th>\n",
       "      <th></th>\n",
       "      <th></th>\n",
       "    </tr>\n",
       "  </thead>\n",
       "  <tbody>\n",
       "    <tr>\n",
       "      <th>2019-01-15 00:00:02</th>\n",
       "      <td>B</td>\n",
       "      <td>5</td>\n",
       "      <td>222</td>\n",
       "      <td>1.0</td>\n",
       "      <td>D045a19c9d41f734ee6ab1995666bf066</td>\n",
       "      <td>3.0</td>\n",
       "    </tr>\n",
       "    <tr>\n",
       "      <th>2019-01-15 00:00:02</th>\n",
       "      <td>B</td>\n",
       "      <td>16</td>\n",
       "      <td>903</td>\n",
       "      <td>1.0</td>\n",
       "      <td>D63ce9b7450da770b2564db2f6bcf4653</td>\n",
       "      <td>3.0</td>\n",
       "    </tr>\n",
       "    <tr>\n",
       "      <th>2019-01-15 00:00:03</th>\n",
       "      <td>C</td>\n",
       "      <td>35</td>\n",
       "      <td>1674</td>\n",
       "      <td>0.0</td>\n",
       "      <td>Be9dee4918b3eb5a2465bd6c9d2807107</td>\n",
       "      <td>1.0</td>\n",
       "    </tr>\n",
       "    <tr>\n",
       "      <th>2019-01-15 00:00:03</th>\n",
       "      <td>B</td>\n",
       "      <td>16</td>\n",
       "      <td>902</td>\n",
       "      <td>1.0</td>\n",
       "      <td>Dc75c0e06cebcc58df45728ee169cd83b</td>\n",
       "      <td>3.0</td>\n",
       "    </tr>\n",
       "    <tr>\n",
       "      <th>2019-01-15 00:00:04</th>\n",
       "      <td>B</td>\n",
       "      <td>16</td>\n",
       "      <td>901</td>\n",
       "      <td>1.0</td>\n",
       "      <td>D63804b07f3407c7de92804e56e0cb472</td>\n",
       "      <td>3.0</td>\n",
       "    </tr>\n",
       "  </tbody>\n",
       "</table>\n",
       "</div>"
      ],
      "text/plain": [
       "                    lineID  stationID  deviceID  status  \\\n",
       "time                                                      \n",
       "2019-01-15 00:00:02      B          5       222     1.0   \n",
       "2019-01-15 00:00:02      B         16       903     1.0   \n",
       "2019-01-15 00:00:03      C         35      1674     0.0   \n",
       "2019-01-15 00:00:03      B         16       902     1.0   \n",
       "2019-01-15 00:00:04      B         16       901     1.0   \n",
       "\n",
       "                                                userID  payType  \n",
       "time                                                             \n",
       "2019-01-15 00:00:02  D045a19c9d41f734ee6ab1995666bf066      3.0  \n",
       "2019-01-15 00:00:02  D63ce9b7450da770b2564db2f6bcf4653      3.0  \n",
       "2019-01-15 00:00:03  Be9dee4918b3eb5a2465bd6c9d2807107      1.0  \n",
       "2019-01-15 00:00:03  Dc75c0e06cebcc58df45728ee169cd83b      3.0  \n",
       "2019-01-15 00:00:04  D63804b07f3407c7de92804e56e0cb472      3.0  "
      ]
     },
     "execution_count": 136,
     "metadata": {},
     "output_type": "execute_result"
    }
   ],
   "source": [
    "# 统计2019-01-15每个地铁站每小时人数的变化\n",
    "\n",
    "# 将time字符串列转为datetime格式\n",
    "data_src.time = pd.to_datetime(data_src.time,format=\"%Y-%m-%d %H:%M:%S\")\n",
    "# 设置time列为索引列\n",
    "data_src.set_index('time',inplace=True)\n",
    "\n",
    "data_src.head()\n"
   ]
  },
  {
   "cell_type": "code",
   "execution_count": 139,
   "metadata": {},
   "outputs": [
    {
     "data": {
      "text/plain": [
       "time\n",
       "2019-01-15 00:00:00       89\n",
       "2019-01-15 00:30:00      139\n",
       "2019-01-15 01:00:00       98\n",
       "2019-01-15 01:30:00       58\n",
       "2019-01-15 02:00:00       81\n",
       "2019-01-15 02:30:00       43\n",
       "2019-01-15 03:00:00       27\n",
       "2019-01-15 03:30:00       28\n",
       "2019-01-15 04:00:00       58\n",
       "2019-01-15 04:30:00       61\n",
       "2019-01-15 05:00:00       20\n",
       "2019-01-15 05:30:00     1938\n",
       "2019-01-15 06:00:00    10068\n",
       "2019-01-15 06:30:00    17651\n",
       "Freq: 30T, Name: userID, dtype: int64"
      ]
     },
     "execution_count": 139,
     "metadata": {},
     "output_type": "execute_result"
    }
   ],
   "source": [
    "# 选定特定的列\n",
    "cols=data_src.loc[:,['userID']]\n",
    "# 聚集\n",
    "count=cols.userID.resample('30min').count()\n",
    "count"
   ]
  },
  {
   "cell_type": "code",
   "execution_count": 150,
   "metadata": {},
   "outputs": [
    {
     "data": {
      "image/png": "[encoded data removed]",
      "text/plain": [
       "<Figure size 432x288 with 1 Axes>"
      ]
     },
     "metadata": {},
     "output_type": "display_data"
    }
   ],
   "source": [
    "import matplotlib.pyplot as plt\n",
    "plt.plot(count)\n",
    "plt.show()"
   ]
  }
 ],
 "metadata": {
  "kernelspec": {
   "display_name": "Python 3",
   "language": "python",
   "name": "python3"
  },
  "language_info": {
   "codemirror_mode": {
    "name": "ipython",
    "version": 3
   },
   "file_extension": ".py",
   "mimetype": "text/x-python",
   "name": "python",
   "nbconvert_exporter": "python",
   "pygments_lexer": "ipython3",
   "version": "3.6.5"
  }
 },
 "nbformat": 4,
 "nbformat_minor": 2
}
